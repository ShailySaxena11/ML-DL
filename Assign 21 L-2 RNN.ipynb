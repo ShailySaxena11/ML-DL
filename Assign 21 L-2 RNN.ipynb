{
 "cells": [
  {
   "cell_type": "code",
   "execution_count": 2,
   "id": "c884ea03",
   "metadata": {
    "scrolled": true
   },
   "outputs": [],
   "source": [
    "from tensorflow.keras.datasets import imdb\n",
    "from tensorflow.keras.preprocessing.sequence import pad_sequences\n",
    "from tensorflow.keras.models import Sequential\n",
    "from tensorflow.keras.layers import GRU,Dense,Embedding"
   ]
  },
  {
   "cell_type": "code",
   "execution_count": 3,
   "id": "71f3dc30",
   "metadata": {},
   "outputs": [],
   "source": [
    "(X_train,y_train),(X_test,y_test)=imdb.load_data(num_words=20000)"
   ]
  },
  {
   "cell_type": "code",
   "execution_count": 4,
   "id": "b3a1d1c2",
   "metadata": {},
   "outputs": [],
   "source": [
    "word_ind=imdb.get_word_index()"
   ]
  },
  {
   "cell_type": "code",
   "execution_count": 5,
   "id": "24ca4784",
   "metadata": {},
   "outputs": [],
   "source": [
    "X_train=pad_sequences(X_train,maxlen=256,value=word_ind['the'],padding='post')\n",
    "X_test=pad_sequences(X_test,maxlen=256,value=word_ind['the'],padding='post')"
   ]
  },
  {
   "cell_type": "code",
   "execution_count": 6,
   "id": "01b53dc2",
   "metadata": {},
   "outputs": [],
   "source": [
    "vocab=20000\n",
    "output_dim=128\n",
    "max_words=256"
   ]
  },
  {
   "cell_type": "code",
   "execution_count": 8,
   "id": "ce8a044e",
   "metadata": {},
   "outputs": [],
   "source": [
    "model=Sequential()\n",
    "model.add(Embedding(vocab,output_dim,input_length=max_words))\n",
    "model.add(GRU(128,activation='tanh'))\n",
    "model.add(Dense(1,activation='sigmoid'))"
   ]
  },
  {
   "cell_type": "code",
   "execution_count": 9,
   "id": "ee80ecb6",
   "metadata": {},
   "outputs": [],
   "source": [
    "model.compile(optimizer='adam',loss='binary_crossentropy',metrics=['acc'])"
   ]
  },
  {
   "cell_type": "code",
   "execution_count": 11,
   "id": "67a47140",
   "metadata": {},
   "outputs": [
    {
     "name": "stdout",
     "output_type": "stream",
     "text": [
      "Epoch 1/10\n",
      "50/50 [==============================] - 750s 15s/step - loss: 0.6885 - acc: 0.5278 - val_loss: 0.6470 - val_acc: 0.5794\n",
      "Epoch 2/10\n",
      "50/50 [==============================] - 816s 16s/step - loss: 0.6610 - acc: 0.5756 - val_loss: 0.6636 - val_acc: 0.5548\n",
      "Epoch 3/10\n",
      "50/50 [==============================] - 926s 19s/step - loss: 0.6229 - acc: 0.6346 - val_loss: 0.6690 - val_acc: 0.5554\n",
      "Epoch 4/10\n",
      "50/50 [==============================] - 825s 17s/step - loss: 0.6042 - acc: 0.6152 - val_loss: 0.6493 - val_acc: 0.5804\n",
      "Epoch 5/10\n",
      "50/50 [==============================] - 787s 16s/step - loss: 0.5260 - acc: 0.7146 - val_loss: 0.5180 - val_acc: 0.7817\n",
      "Epoch 6/10\n",
      "50/50 [==============================] - 1261s 25s/step - loss: 0.3865 - acc: 0.8592 - val_loss: 0.4820 - val_acc: 0.8092\n",
      "Epoch 7/10\n",
      "50/50 [==============================] - 867s 17s/step - loss: 0.3669 - acc: 0.8678 - val_loss: 0.4712 - val_acc: 0.8135\n",
      "Epoch 8/10\n",
      "50/50 [==============================] - 815s 16s/step - loss: 0.3807 - acc: 0.8609 - val_loss: 0.4736 - val_acc: 0.8121\n",
      "Epoch 9/10\n",
      "50/50 [==============================] - 1679s 34s/step - loss: 0.4269 - acc: 0.8329 - val_loss: 0.6098 - val_acc: 0.6662\n",
      "Epoch 10/10\n",
      "50/50 [==============================] - 941s 19s/step - loss: 0.5208 - acc: 0.7727 - val_loss: 0.6705 - val_acc: 0.5702\n"
     ]
    },
    {
     "data": {
      "text/plain": [
       "<keras.callbacks.History at 0x2040b4b22e0>"
      ]
     },
     "execution_count": 11,
     "metadata": {},
     "output_type": "execute_result"
    }
   ],
   "source": [
    "model.fit(X_train,y_train,epochs=10,batch_size=500,validation_data=(X_test,y_test))"
   ]
  },
  {
   "cell_type": "code",
   "execution_count": null,
   "id": "31a6d1d2",
   "metadata": {},
   "outputs": [],
   "source": []
  }
 ],
 "metadata": {
  "kernelspec": {
   "display_name": "Python 3 (ipykernel)",
   "language": "python",
   "name": "python3"
  },
  "language_info": {
   "codemirror_mode": {
    "name": "ipython",
    "version": 3
   },
   "file_extension": ".py",
   "mimetype": "text/x-python",
   "name": "python",
   "nbconvert_exporter": "python",
   "pygments_lexer": "ipython3",
   "version": "3.9.13"
  }
 },
 "nbformat": 4,
 "nbformat_minor": 5
}
