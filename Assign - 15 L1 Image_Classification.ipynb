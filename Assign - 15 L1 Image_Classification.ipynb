{
 "cells": [
  {
   "cell_type": "code",
   "execution_count": 1,
   "id": "f628d2b1",
   "metadata": {},
   "outputs": [],
   "source": [
    "import tensorflow_datasets as tfds\n",
    "import tensorflow as tf\n",
    "from keras.applications.vgg16 import VGG16,preprocess_input\n",
    "from keras.models import Sequential\n",
    "from keras.layers import Flatten,Dense,Conv2D,MaxPooling2D\n",
    "import matplotlib.pyplot as plt\n",
    "import pandas as pd\n",
    "import numpy as np"
   ]
  },
  {
   "cell_type": "code",
   "execution_count": null,
   "id": "14a7b78d",
   "metadata": {},
   "outputs": [],
   "source": [
    "(train_ds,train_labels),(test_ds,test_labels)=tfds.load_data('tf_flowers',\n",
    "                                                            split=['train[:70%]','train[70%:]'],\n",
    "                                                            batch_size=1,\n",
    "                                                            as_supervised=True)"
   ]
  },
  {
   "cell_type": "code",
   "execution_count": null,
   "id": "4b193c8f",
   "metadata": {},
   "outputs": [],
   "source": [
    "train_ds.shape"
   ]
  },
  {
   "cell_type": "code",
   "execution_count": null,
   "id": "73d17a2e",
   "metadata": {},
   "outputs": [],
   "source": [
    "train_ds[0].shape"
   ]
  },
  {
   "cell_type": "code",
   "execution_count": null,
   "id": "d3bd487b",
   "metadata": {},
   "outputs": [],
   "source": [
    "plt.imshow(train_ds[0])\n",
    "plt.show()"
   ]
  },
  {
   "cell_type": "code",
   "execution_count": null,
   "id": "974c9111",
   "metadata": {},
   "outputs": [],
   "source": [
    "train_ds=tf.image.resize(train_ds,(200,200))\n",
    "test_ds=tf.image.resize(test_ds,(200,200))"
   ]
  },
  {
   "cell_type": "code",
   "execution_count": null,
   "id": "8db4b4ef",
   "metadata": {},
   "outputs": [],
   "source": [
    "base_model=VGG16(include_top=False,\n",
    "                weights='imagenet',\n",
    "                input_shape=train_ds[0].shape)\n",
    "base_model.trainable=False"
   ]
  },
  {
   "cell_type": "code",
   "execution_count": null,
   "id": "5b4cf3c8",
   "metadata": {},
   "outputs": [],
   "source": [
    "base_model.summary()"
   ]
  },
  {
   "cell_type": "code",
   "execution_count": null,
   "id": "1ab62302",
   "metadata": {},
   "outputs": [],
   "source": [
    "model=Sequential()\n",
    "model.add(base_model)\n",
    "model.add(Flatten())\n",
    "model.add(Dense(1000,activation='relu'))\n",
    "model.add(Dense(500,activation='relu'))\n",
    "model.add(Dense(5,activation='softmax'))"
   ]
  },
  {
   "cell_type": "code",
   "execution_count": null,
   "id": "b8ae3794",
   "metadata": {},
   "outputs": [],
   "source": [
    "model.summary()"
   ]
  },
  {
   "cell_type": "code",
   "execution_count": null,
   "id": "a49e2279",
   "metadata": {},
   "outputs": [],
   "source": [
    "model.compile(optimizer='adam',loss='sparse_categorical_crossentropy',metrics=['acc'])"
   ]
  },
  {
   "cell_type": "code",
   "execution_count": null,
   "id": "3e7fb616",
   "metadata": {},
   "outputs": [],
   "source": [
    "model.fit(train_ds,train_labels,epochs=1,batch_size=128,validation_data=(test_ds,test_labels))"
   ]
  }
 ],
 "metadata": {
  "kernelspec": {
   "display_name": "Python 3 (ipykernel)",
   "language": "python",
   "name": "python3"
  },
  "language_info": {
   "codemirror_mode": {
    "name": "ipython",
    "version": 3
   },
   "file_extension": ".py",
   "mimetype": "text/x-python",
   "name": "python",
   "nbconvert_exporter": "python",
   "pygments_lexer": "ipython3",
   "version": "3.9.13"
  }
 },
 "nbformat": 4,
 "nbformat_minor": 5
}
