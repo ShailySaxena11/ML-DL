{
 "cells": [
  {
   "cell_type": "code",
   "execution_count": 14,
   "id": "39ccca0a",
   "metadata": {},
   "outputs": [],
   "source": [
    "from tensorflow.keras import Sequential\n",
    "import tensorflow_datasets as tfds\n",
    "import pandas as pd\n",
    "import numpy as np\n",
    "import seaborn as sns\n",
    "import matplotlib.pyplot as plt\n",
    "from tensorflow.keras.preprocessing.image import ImageDataGenerator"
   ]
  },
  {
   "cell_type": "code",
   "execution_count": 18,
   "id": "802e5b70",
   "metadata": {},
   "outputs": [
    {
     "name": "stdout",
     "output_type": "stream",
     "text": [
      "Found 0 images belonging to 0 classes.\n"
     ]
    }
   ],
   "source": [
    "img=ImageDataGenerator(vertical_flip=True)\n",
    "train_data=img.flow_from_directory(\"D:\\Staragile\\pandas databasse\\cats\",target_size=(200,200))"
   ]
  },
  {
   "cell_type": "code",
   "execution_count": 19,
   "id": "a256d2b9",
   "metadata": {},
   "outputs": [
    {
     "data": {
      "text/plain": [
       "0"
      ]
     },
     "execution_count": 19,
     "metadata": {},
     "output_type": "execute_result"
    }
   ],
   "source": [
    "len(train_data)"
   ]
  },
  {
   "cell_type": "code",
   "execution_count": 20,
   "id": "5930d056",
   "metadata": {},
   "outputs": [],
   "source": [
    "img1=next(train_data)"
   ]
  },
  {
   "cell_type": "code",
   "execution_count": 21,
   "id": "0737cf8f",
   "metadata": {},
   "outputs": [
    {
     "data": {
      "text/plain": [
       "(0, 200, 200, 3)"
      ]
     },
     "execution_count": 21,
     "metadata": {},
     "output_type": "execute_result"
    }
   ],
   "source": [
    "img1[0].shape"
   ]
  },
  {
   "cell_type": "code",
   "execution_count": 22,
   "id": "2f3e6e2c",
   "metadata": {},
   "outputs": [
    {
     "data": {
      "text/plain": [
       "2"
      ]
     },
     "execution_count": 22,
     "metadata": {},
     "output_type": "execute_result"
    }
   ],
   "source": [
    "len(img1)"
   ]
  },
  {
   "cell_type": "code",
   "execution_count": 23,
   "id": "ed9007f3",
   "metadata": {},
   "outputs": [],
   "source": [
    "import cv2"
   ]
  },
  {
   "cell_type": "code",
   "execution_count": 24,
   "id": "d55fb519",
   "metadata": {},
   "outputs": [],
   "source": [
    "img_cat=cv2.imread(\"D:\\Staragile\\pandas databasse\\cats\\cat.3.jpg\")"
   ]
  },
  {
   "cell_type": "code",
   "execution_count": 10,
   "id": "7bfc7d35",
   "metadata": {},
   "outputs": [],
   "source": [
    "cv2.imshow('win',img_cat)\n",
    "if cv2.waitKey(0) & 0xff==ord('b'):\n",
    "    cv2.destroyAllWindows()\n"
   ]
  },
  {
   "cell_type": "code",
   "execution_count": 11,
   "id": "ef3f173b",
   "metadata": {},
   "outputs": [],
   "source": [
    "import os\n",
    "\n",
    "data_dir = os.path.join(os.path.expanduser('~'), 'Desktop', 'train1')\n"
   ]
  },
  {
   "cell_type": "code",
   "execution_count": 41,
   "id": "7a9fbd27",
   "metadata": {},
   "outputs": [
    {
     "data": {
      "text/plain": [
       "'C:\\\\Users\\\\dell\\\\Desktop\\\\train1'"
      ]
     },
     "execution_count": 41,
     "metadata": {},
     "output_type": "execute_result"
    }
   ],
   "source": [
    "data_dir"
   ]
  },
  {
   "cell_type": "code",
   "execution_count": null,
   "id": "795c3073",
   "metadata": {},
   "outputs": [],
   "source": []
  },
  {
   "cell_type": "code",
   "execution_count": null,
   "id": "99fc8970",
   "metadata": {},
   "outputs": [],
   "source": []
  }
 ],
 "metadata": {
  "kernelspec": {
   "display_name": "Python 3 (ipykernel)",
   "language": "python",
   "name": "python3"
  },
  "language_info": {
   "codemirror_mode": {
    "name": "ipython",
    "version": 3
   },
   "file_extension": ".py",
   "mimetype": "text/x-python",
   "name": "python",
   "nbconvert_exporter": "python",
   "pygments_lexer": "ipython3",
   "version": "3.9.13"
  }
 },
 "nbformat": 4,
 "nbformat_minor": 5
}
