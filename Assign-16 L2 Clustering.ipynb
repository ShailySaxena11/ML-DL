{
 "cells": [
  {
   "cell_type": "code",
   "execution_count": 12,
   "id": "b2013187",
   "metadata": {},
   "outputs": [],
   "source": [
    "import pandas as pd\n",
    "import numpy as np\n",
    "import matplotlib.pyplot as plt\n",
    "import seaborn as sns\n",
    "from sklearn.preprocessing import LabelEncoder,StandardScaler\n",
    "import warnings \n",
    "warnings.filterwarnings(\"ignore\")  \n",
    "from sklearn.cluster import KMeans"
   ]
  },
  {
   "cell_type": "code",
   "execution_count": 5,
   "id": "767b8a49",
   "metadata": {},
   "outputs": [
    {
     "ename": "SyntaxError",
     "evalue": "(unicode error) 'unicodeescape' codec can't decode bytes in position 2-3: truncated \\UXXXXXXXX escape (2293460509.py, line 1)",
     "output_type": "error",
     "traceback": [
      "\u001b[1;36m  File \u001b[1;32m\"C:\\Users\\dell\\AppData\\Local\\Temp\\ipykernel_896\\2293460509.py\"\u001b[1;36m, line \u001b[1;32m1\u001b[0m\n\u001b[1;33m    data=pd.read_csv(\"C:\\Users\\dell\\Documents\\PDFs\\Staragile\\pandas databasse\\Clustering dataset\\Assign 16\\segmentation data legend.xlsx\")\u001b[0m\n\u001b[1;37m                                                                                                                                         ^\u001b[0m\n\u001b[1;31mSyntaxError\u001b[0m\u001b[1;31m:\u001b[0m (unicode error) 'unicodeescape' codec can't decode bytes in position 2-3: truncated \\UXXXXXXXX escape\n"
     ]
    }
   ],
   "source": [
    "data=pd.read_csv(\"C:\\Users\\dell\\Documents\\PDFs\\Staragile\\pandas databasse\\Clustering dataset\\Assign 16\\segmentation data legend.xlsx\")"
   ]
  },
  {
   "cell_type": "code",
   "execution_count": 10,
   "id": "2d8c3ed1",
   "metadata": {},
   "outputs": [
    {
     "ename": "NameError",
     "evalue": "name 'data' is not defined",
     "output_type": "error",
     "traceback": [
      "\u001b[1;31m---------------------------------------------------------------------------\u001b[0m",
      "\u001b[1;31mNameError\u001b[0m                                 Traceback (most recent call last)",
      "\u001b[1;32m~\\AppData\\Local\\Temp\\ipykernel_8480\\391604064.py\u001b[0m in \u001b[0;36m<module>\u001b[1;34m\u001b[0m\n\u001b[1;32m----> 1\u001b[1;33m \u001b[0mdata\u001b[0m\u001b[1;33m\u001b[0m\u001b[1;33m\u001b[0m\u001b[0m\n\u001b[0m",
      "\u001b[1;31mNameError\u001b[0m: name 'data' is not defined"
     ]
    }
   ],
   "source": [
    "data"
   ]
  },
  {
   "cell_type": "code",
   "execution_count": null,
   "id": "e614334f",
   "metadata": {},
   "outputs": [],
   "source": [
    "data.info()"
   ]
  },
  {
   "cell_type": "code",
   "execution_count": null,
   "id": "a157ca76",
   "metadata": {},
   "outputs": [],
   "source": [
    "data.describe()"
   ]
  },
  {
   "cell_type": "code",
   "execution_count": null,
   "id": "de9c5fe5",
   "metadata": {},
   "outputs": [],
   "source": [
    "data.describe(include='O')"
   ]
  },
  {
   "cell_type": "code",
   "execution_count": null,
   "id": "23bfc660",
   "metadata": {},
   "outputs": [],
   "source": [
    "data.isna().sum()"
   ]
  },
  {
   "cell_type": "code",
   "execution_count": null,
   "id": "f1ae065f",
   "metadata": {},
   "outputs": [],
   "source": [
    "data1=data.dropna()"
   ]
  },
  {
   "cell_type": "code",
   "execution_count": null,
   "id": "616f20f7",
   "metadata": {},
   "outputs": [],
   "source": [
    "data1"
   ]
  },
  {
   "cell_type": "code",
   "execution_count": null,
   "id": "d811dab3",
   "metadata": {},
   "outputs": [],
   "source": [
    "data1.drop_duplicates()"
   ]
  },
  {
   "cell_type": "code",
   "execution_count": null,
   "id": "e157263a",
   "metadata": {},
   "outputs": [],
   "source": [
    "data1.isna().sum()"
   ]
  },
  {
   "cell_type": "code",
   "execution_count": null,
   "id": "8c167039",
   "metadata": {},
   "outputs": [],
   "source": [
    "y=data1.iloc[:,1:]"
   ]
  },
  {
   "cell_type": "code",
   "execution_count": null,
   "id": "0e5d85d0",
   "metadata": {},
   "outputs": [],
   "source": [
    "y.head()"
   ]
  },
  {
   "cell_type": "code",
   "execution_count": null,
   "id": "b60141e1",
   "metadata": {},
   "outputs": [],
   "source": [
    "data2=LabelEncoder()\n",
    "data1['track_id']=data2.fit_transform(data1['track_id'].astype('str'))\n",
    "data1['artists']=data2.fit_transform(data1['artists'].astype('str'))\n",
    "data1['album_name']=data2.fit_transform(data1['album_name'].astype('str'))\n",
    "data1['explicit']=data2.fit_transform(data1['explicit'].astype('str'))\n",
    "data1['track_genre']=data2.fit_transform(data1['track_genre'].astype('str'))\n",
    "data1['track_name']=data2.fit_transform(data1['track_name'].astype('str'))\n",
    "data1['instrumentalness']=data2.fit_transform(data1['instrumentalness'].astype('str'))"
   ]
  },
  {
   "cell_type": "code",
   "execution_count": null,
   "id": "73fdfbe4",
   "metadata": {},
   "outputs": [],
   "source": [
    "data1"
   ]
  },
  {
   "cell_type": "code",
   "execution_count": null,
   "id": "f3510da2",
   "metadata": {},
   "outputs": [],
   "source": [
    "ss=StandardScaler()\n",
    "standard=ss.fit_transform(data1.iloc[:,1:])"
   ]
  },
  {
   "cell_type": "code",
   "execution_count": null,
   "id": "b93d0130",
   "metadata": {},
   "outputs": [],
   "source": [
    "standard"
   ]
  },
  {
   "cell_type": "code",
   "execution_count": null,
   "id": "53914047",
   "metadata": {},
   "outputs": [],
   "source": [
    "plt.scatter(data1['track_id'],data1['album_name'])\n",
    "plt.show()"
   ]
  },
  {
   "cell_type": "code",
   "execution_count": null,
   "id": "86f9dd50",
   "metadata": {},
   "outputs": [],
   "source": [
    "wcss=[]\n",
    "\n",
    "for i in range(1,11):\n",
    "    km=KMeans(n_clusters=i)\n",
    "    km.fit_predict(data1)\n",
    "    wcss.append(km.inertia_)"
   ]
  },
  {
   "cell_type": "code",
   "execution_count": null,
   "id": "3bed1a73",
   "metadata": {},
   "outputs": [],
   "source": [
    "plt.plot(range(1,11),wcss)\n",
    "plt.title('Elbow Method')\n",
    "plt.Xlable('Number Of Clusters')\n",
    "plt.Ylable('WCSS')"
   ]
  },
  {
   "cell_type": "code",
   "execution_count": null,
   "id": "3d3d651d",
   "metadata": {},
   "outputs": [],
   "source": [
    "cluster_new=Km(4,random_state=42)\n",
    "pred_y=clusters_new.fit(standard)"
   ]
  },
  {
   "cell_type": "code",
   "execution_count": null,
   "id": "a3733bd7",
   "metadata": {},
   "outputs": [],
   "source": [
    "from sklearn.metric import Silhouette_Score\n",
    "Silhouette_Score(standard,clusters_new.labels)"
   ]
  },
  {
   "cell_type": "code",
   "execution_count": null,
   "id": "33632c10",
   "metadata": {},
   "outputs": [],
   "source": [
    "clusters_new=Kmeans(4,random_state=42)\n",
    "pred_y=clusters_new.fit(standard)\n",
    "clusters_new.labels_\n",
    "data1['clusterid_new']=cluster_new.labels_\n",
    "data1"
   ]
  },
  {
   "cell_type": "code",
   "execution_count": null,
   "id": "5669d663",
   "metadata": {},
   "outputs": [],
   "source": []
  }
 ],
 "metadata": {
  "kernelspec": {
   "display_name": "Python 3 (ipykernel)",
   "language": "python",
   "name": "python3"
  },
  "language_info": {
   "codemirror_mode": {
    "name": "ipython",
    "version": 3
   },
   "file_extension": ".py",
   "mimetype": "text/x-python",
   "name": "python",
   "nbconvert_exporter": "python",
   "pygments_lexer": "ipython3",
   "version": "3.9.13"
  }
 },
 "nbformat": 4,
 "nbformat_minor": 5
}
